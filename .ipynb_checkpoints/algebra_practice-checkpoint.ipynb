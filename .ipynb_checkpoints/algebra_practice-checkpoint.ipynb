{
 "cells": [
  {
   "cell_type": "code",
   "execution_count": 1,
   "id": "a1505ad5-0dc2-4025-b08f-b043e4bcfd75",
   "metadata": {},
   "outputs": [
    {
     "name": "stdout",
     "output_type": "stream",
     "text": [
      "matrix:\n",
      " [[1 2 3]\n",
      " [4 5 6]]\n",
      "vector:\n",
      " [7 9 6]\n",
      "matrix.shape: (2, 3)\n",
      "vector.shape: (3,)\n",
      "matrix.dtype: int32\n",
      "vector.dtype: int32\n",
      "matrix.size: 6\n",
      "vector.size: 3\n",
      "matrix.ndim: 2\n",
      "vector.ndim: 1\n",
      "matrix.itemsize: 4\n",
      "vector.itemsize: 4\n",
      "matrix.nbytes: 24\n",
      "vector.nbytes: 12\n",
      "matrix.T:\n",
      " [[1 4]\n",
      " [2 5]\n",
      " [3 6]]\n",
      "vector.T:\n",
      " [7 9 6]\n",
      "matrix.flatten(): [1 2 3 4 5 6]\n",
      "vector.flatten(): [7 9 6]\n",
      "matrix.reshape(3,2):\n",
      " [[1 2]\n",
      " [3 4]\n",
      " [5 6]]\n",
      "vector.reshape(3,1):\n",
      " [[7]\n",
      " [9]\n",
      " [6]]\n",
      "matrix.reshape(3,-1):\n",
      " [[1 2]\n",
      " [3 4]\n",
      " [5 6]]\n",
      "vector.reshape(-1,1):\n",
      " [[7]\n",
      " [9]\n",
      " [6]]\n",
      "matrix.reshape(-1,1):\n",
      " [[1]\n",
      " [2]\n",
      " [3]\n",
      " [4]\n",
      " [5]\n",
      " [6]]\n",
      "vector.reshape(-1,1):\n",
      " [[7]\n",
      " [9]\n",
      " [6]]\n"
     ]
    }
   ],
   "source": [
    "#basic\n",
    "import numpy as np\n",
    "matrix = np.array([[1,2,3],[4,5,6]])\n",
    "vector=np.array([7,9,6])\n",
    "print('matrix:\\n',matrix)\n",
    "print('vector:\\n',vector)\n",
    "print('matrix.shape:',matrix.shape)\n",
    "print('vector.shape:',vector.shape)\n",
    "print('matrix.dtype:',matrix.dtype)\n",
    "print('vector.dtype:',vector.dtype)\n",
    "print('matrix.size:',matrix.size)\n",
    "print('vector.size:',vector.size)\n",
    "print('matrix.ndim:',matrix.ndim)\n",
    "print('vector.ndim:',vector.ndim)\n",
    "print('matrix.itemsize:',matrix.itemsize)\n",
    "print('vector.itemsize:',vector.itemsize)\n",
    "print('matrix.nbytes:',matrix.nbytes)\n",
    "print('vector.nbytes:',vector.nbytes)\n",
    "print('matrix.T:\\n',matrix.T)\n",
    "print('vector.T:\\n',vector.T)\n",
    "print('matrix.flatten():',matrix.flatten())\n",
    "print('vector.flatten():',vector.flatten())\n",
    "print('matrix.reshape(3,2):\\n',matrix.reshape(3,2))\n",
    "print('vector.reshape(3,1):\\n',vector.reshape(3,1))\n",
    "print('matrix.reshape(3,-1):\\n',matrix.reshape(3,-1))\n",
    "print('vector.reshape(-1,1):\\n',vector.reshape(-1,1))\n",
    "print('matrix.reshape(-1,1):\\n',matrix.reshape(-1,1))\n",
    "print('vector.reshape(-1,1):\\n',vector.reshape(-1,1))"
   ]
  },
  {
   "cell_type": "code",
   "execution_count": 2,
   "id": "81f6a151-46f4-458f-985d-94692c883130",
   "metadata": {},
   "outputs": [
    {
     "name": "stdout",
     "output_type": "stream",
     "text": [
      "matrix.dot(matrix2):\n",
      " [[22 28]\n",
      " [49 64]]\n"
     ]
    }
   ],
   "source": [
    "#elementWiseOperation\n",
    "\n",
    "import numpy as np\n",
    "# matrix = np.array([[1,2,3],[4,5,6]])\n",
    "# vector=np.array([7,9,6])\n",
    "\n",
    "# element-wise operation\n",
    "# print('matrix+vector:\\n',matrix+vector)\n",
    "# print('matrix-vector:\\n',matrix-vector)\n",
    "# print('matrix*vector:\\n',matrix*vector)\n",
    "# print('matrix/vector:\\n',matrix/vector)\n",
    "# print('matrix**vector:\\n',matrix**vector)\n",
    "\n",
    "# for dot \n",
    "matrix = np.array([[1,2,3],[4,5,6]])\n",
    "matrix2 = np.array([[1,2],[3,4],[5,6]])\n",
    "\n",
    "# matrix multiplication\n",
    "print('matrix.dot(matrix2):\\n',matrix.dot(matrix2))"
   ]
  },
  {
   "cell_type": "code",
   "execution_count": null,
   "id": "ab4bcf72-a9a7-4578-aec6-c2a08fc40682",
   "metadata": {},
   "outputs": [],
   "source": []
  }
 ],
 "metadata": {
  "kernelspec": {
   "display_name": "Python 3 (ipykernel)",
   "language": "python",
   "name": "python3"
  },
  "language_info": {
   "codemirror_mode": {
    "name": "ipython",
    "version": 3
   },
   "file_extension": ".py",
   "mimetype": "text/x-python",
   "name": "python",
   "nbconvert_exporter": "python",
   "pygments_lexer": "ipython3",
   "version": "3.12.1"
  }
 },
 "nbformat": 4,
 "nbformat_minor": 5
}
